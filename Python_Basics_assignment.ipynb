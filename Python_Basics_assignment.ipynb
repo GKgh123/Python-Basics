{
  "nbformat": 4,
  "nbformat_minor": 0,
  "metadata": {
    "colab": {
      "provenance": []
    },
    "kernelspec": {
      "name": "python3",
      "display_name": "Python 3"
    },
    "language_info": {
      "name": "python"
    }
  },
  "cells": [
    {
      "cell_type": "markdown",
      "source": [
        "# Python Basics\n"
      ],
      "metadata": {
        "id": "BjOlR0atHOgs"
      }
    },
    {
      "cell_type": "markdown",
      "source": [
        " 1. What is Python, and why is it popular?\n",
        "  \n",
        "   -> Python is a programming language and it is popular for web development, software development, for mathematical, statistical analysis and for testing, andriod appln and for machine learning and AI related projects."
      ],
      "metadata": {
        "id": "MyDTZ1jDHUyp"
      }
    },
    {
      "cell_type": "markdown",
      "source": [
        "2. What is an interpreter in Python?\n",
        "\n",
        " -> Interpreter is a program that executes Python code line by line, converting it into machine-readable instructions at runtime and making Python a flexible and easy-to-debug."
      ],
      "metadata": {
        "id": "P49pE9FzPOnE"
      }
    },
    {
      "cell_type": "markdown",
      "source": [
        "3. What are pre-defined keywords in Python?\n",
        "\n",
        " -> Pre-defined keywords in Python are reserved words that have special meanings and cannot be used as variable names, function names, or identifiers."
      ],
      "metadata": {
        "id": "LpLNTbYOP6c3"
      }
    },
    {
      "cell_type": "markdown",
      "source": [
        "4. Can keywords be used as variable names?\n",
        "\n",
        "  ->No, keywords cannot be used as variable names in Python. Since keywords have special meanings, using them as variable names will result in a SyntaxError."
      ],
      "metadata": {
        "id": "qVUothwkTxl_"
      }
    },
    {
      "cell_type": "markdown",
      "source": [
        "5. What is mutability in Python?\n",
        "\n",
        " -> Mutability refers to whether an object can be modified after it is created."
      ],
      "metadata": {
        "id": "nhcUZ5uzUIh7"
      }
    },
    {
      "cell_type": "markdown",
      "source": [
        "6. Why are lists mutable, but tuples are immutable\"?\n",
        "\n",
        " -> Because after declaring a list we can alter the data in it, but in tuples we cannot change data after declaring it, whatever the data we input in tuple it takes as final data."
      ],
      "metadata": {
        "id": "gNTRBRMlUs5P"
      }
    },
    {
      "cell_type": "markdown",
      "source": [
        "7. What is the difference between “==” and “is” operators in Python?\n",
        "\n",
        " -> The '==' compares/check the other side of data whether it is similar or not\n",
        " and 'is' checks the whether the data is present in the main data."
      ],
      "metadata": {
        "id": "Gx8oFboZV2Hk"
      }
    },
    {
      "cell_type": "markdown",
      "source": [
        "8. What are logical operators in Python?\n",
        "\n",
        " -> There are 3 logical operators are there mainly they are 'and','or','not'\n",
        " each of them have a specific roles at first \"and\" if there are two conditions it checks that the both the conditions are True or not, & \"Or\" it checks either any one of the conditions are True or False, & 'not' is used to check whether the data is present in main data or it is !== to the data."
      ],
      "metadata": {
        "id": "7bau8pj_W1FG"
      }
    },
    {
      "cell_type": "markdown",
      "source": [
        "9. What is type casting in Python?\n",
        "\n",
        " -> Typecasting refers to coverting one data to another data like 'int' into 'foat', string into float or int."
      ],
      "metadata": {
        "id": "ujIWVyzqYisT"
      }
    },
    {
      "cell_type": "markdown",
      "source": [
        "10. What is the difference between implicit and explicit type casting?\n",
        "\n",
        " -> implicit the process used for two differnt types of data to handle like int and float and it gives accurate output, but in explicit is done manually at this time the data may get loss like if we are using two different data types int and float its sum would be in int type of data the floating data would be lossed."
      ],
      "metadata": {
        "id": "JQ0IURGTZIc4"
      }
    },
    {
      "cell_type": "markdown",
      "source": [
        "11. What is the purpose of conditional statements in Python?\n",
        "\n",
        " -> It is used to check whether the conditions are met or not in programming, another thing we can tell using conditional statement whether to continue or stop at particular point."
      ],
      "metadata": {
        "id": "wwDB5GCcbaVF"
      }
    },
    {
      "cell_type": "markdown",
      "source": [
        "12. How does the elif statement work?\n",
        "\n",
        " -> It is used to not use multiple 'if' conditions and later it can be used for checking multiple conditions."
      ],
      "metadata": {
        "id": "Q-lJdPkQcLPC"
      }
    },
    {
      "cell_type": "markdown",
      "source": [
        "13. What is the difference between for and while loops?\n",
        "\n",
        " -> We can use the for loop when we know how many iterations/range it should be happened at background, and we use while loop when dont know when the data could be matched or until/unless the data is matched."
      ],
      "metadata": {
        "id": "nyL8ogBldLyn"
      }
    },
    {
      "cell_type": "markdown",
      "source": [
        "14. Describe a scenario where a while loop is more suitable than a for loop.\n",
        "\n",
        " -> For example getting access granted after typing correct password."
      ],
      "metadata": {
        "id": "wkInSL_6d_yH"
      }
    },
    {
      "cell_type": "code",
      "source": [
        "# While loop example\n",
        "correct_password = \"py@123\"\n",
        "user_input = \"\"\n",
        "\n",
        "while user_input != correct_password:\n",
        "    user_input = input(\"Enter password: \")\n",
        "    if user_input == correct_password:\n",
        "        print(\"Access granted!\")\n",
        "    else:\n",
        "        print(\"Incorrect password, try again.\")"
      ],
      "metadata": {
        "id": "OktIjFYeeoXU"
      },
      "execution_count": null,
      "outputs": []
    },
    {
      "cell_type": "markdown",
      "source": [
        "# Practical Questions"
      ],
      "metadata": {
        "id": "WAun7GzyfNTT"
      }
    },
    {
      "cell_type": "code",
      "source": [
        "# 1. Write a Python program to print \"Hello, World!\n",
        "print(\"hello World!!\")"
      ],
      "metadata": {
        "colab": {
          "base_uri": "https://localhost:8080/"
        },
        "id": "hawfSXPofVbV",
        "outputId": "7f51c4c4-1b38-4161-ce92-d6a4dd42ba87"
      },
      "execution_count": 1,
      "outputs": [
        {
          "output_type": "stream",
          "name": "stdout",
          "text": [
            "hello World!!\n"
          ]
        }
      ]
    },
    {
      "cell_type": "code",
      "source": [
        "# 2. Write a Python program that displays your name and age\n",
        "name = str(input(\"Enter your name\"))\n",
        "age = int(input(\"Enter your age\"))\n",
        "print (name,age)"
      ],
      "metadata": {
        "colab": {
          "base_uri": "https://localhost:8080/"
        },
        "id": "GFdvjH5Dfkjd",
        "outputId": "51bbb44e-88bc-45af-f5c1-c73fff521198"
      },
      "execution_count": 4,
      "outputs": [
        {
          "output_type": "stream",
          "name": "stdout",
          "text": [
            "Enter your nameAlice\n",
            "Enter your age20\n",
            "Alice 20\n"
          ]
        }
      ]
    },
    {
      "cell_type": "code",
      "source": [
        "# 3. Write code to print all the pre-defined keywords in Python using the keyword library\n",
        "import keyword\n",
        "print(keyword.kwlist)"
      ],
      "metadata": {
        "colab": {
          "base_uri": "https://localhost:8080/"
        },
        "id": "UnnmwmCogMKu",
        "outputId": "81047ac7-549f-444d-87f4-020b415e3282"
      },
      "execution_count": 6,
      "outputs": [
        {
          "output_type": "stream",
          "name": "stdout",
          "text": [
            "['False', 'None', 'True', 'and', 'as', 'assert', 'async', 'await', 'break', 'class', 'continue', 'def', 'del', 'elif', 'else', 'except', 'finally', 'for', 'from', 'global', 'if', 'import', 'in', 'is', 'lambda', 'nonlocal', 'not', 'or', 'pass', 'raise', 'return', 'try', 'while', 'with', 'yield']\n"
          ]
        }
      ]
    },
    {
      "cell_type": "code",
      "source": [
        "# 4. Write a program that checks if a given word is a Python keyword\n",
        "import keyword\n",
        "word = input(\"Enter a keyword\")\n",
        "if keyword.iskeyword(word):\n",
        "    print(f\"{word} is a python Keyword\")\n",
        "else:\n",
        "    print(f\"{word} is not a python keyword\")"
      ],
      "metadata": {
        "colab": {
          "base_uri": "https://localhost:8080/"
        },
        "id": "XyBdjb7hhLgR",
        "outputId": "32a70f60-1976-43b4-cfd2-e5b7dff432f6"
      },
      "execution_count": 10,
      "outputs": [
        {
          "output_type": "stream",
          "name": "stdout",
          "text": [
            "Enter a keywordor\n",
            "or is a python Keyword\n"
          ]
        }
      ]
    },
    {
      "cell_type": "code",
      "source": [
        "# 5. Create a list and tuple in Python, and demonstrate how attempting to change an element works differently\n",
        "list = [1,2,3]\n",
        "list[2] = 4\n",
        "print(list)"
      ],
      "metadata": {
        "colab": {
          "base_uri": "https://localhost:8080/"
        },
        "id": "5bLzClyyiTmK",
        "outputId": "fdded233-7676-4880-dd51-0c2923ef4535"
      },
      "execution_count": 12,
      "outputs": [
        {
          "output_type": "stream",
          "name": "stdout",
          "text": [
            "[1, 2, 4]\n"
          ]
        }
      ]
    },
    {
      "cell_type": "code",
      "source": [
        "tuple = (1,2,3)\n",
        "tuple[2] = 4\n",
        "print(tuple)"
      ],
      "metadata": {
        "colab": {
          "base_uri": "https://localhost:8080/",
          "height": 176
        },
        "id": "6SqRBbx-ioEe",
        "outputId": "9cff19dd-1c34-4722-b4f4-e1177c66c1e4"
      },
      "execution_count": 13,
      "outputs": [
        {
          "output_type": "error",
          "ename": "TypeError",
          "evalue": "'tuple' object does not support item assignment",
          "traceback": [
            "\u001b[0;31m---------------------------------------------------------------------------\u001b[0m",
            "\u001b[0;31mTypeError\u001b[0m                                 Traceback (most recent call last)",
            "\u001b[0;32m<ipython-input-13-2fc713fb7396>\u001b[0m in \u001b[0;36m<cell line: 0>\u001b[0;34m()\u001b[0m\n\u001b[1;32m      1\u001b[0m \u001b[0mtuple\u001b[0m \u001b[0;34m=\u001b[0m \u001b[0;34m(\u001b[0m\u001b[0;36m1\u001b[0m\u001b[0;34m,\u001b[0m\u001b[0;36m2\u001b[0m\u001b[0;34m,\u001b[0m\u001b[0;36m3\u001b[0m\u001b[0;34m)\u001b[0m\u001b[0;34m\u001b[0m\u001b[0;34m\u001b[0m\u001b[0m\n\u001b[0;32m----> 2\u001b[0;31m \u001b[0mtuple\u001b[0m\u001b[0;34m[\u001b[0m\u001b[0;36m2\u001b[0m\u001b[0;34m]\u001b[0m \u001b[0;34m=\u001b[0m \u001b[0;36m4\u001b[0m\u001b[0;34m\u001b[0m\u001b[0;34m\u001b[0m\u001b[0m\n\u001b[0m\u001b[1;32m      3\u001b[0m \u001b[0mprint\u001b[0m\u001b[0;34m(\u001b[0m\u001b[0mtuple\u001b[0m\u001b[0;34m)\u001b[0m\u001b[0;34m\u001b[0m\u001b[0;34m\u001b[0m\u001b[0m\n",
            "\u001b[0;31mTypeError\u001b[0m: 'tuple' object does not support item assignment"
          ]
        }
      ]
    },
    {
      "cell_type": "code",
      "source": [
        "# 6.  Write a function to demonstrate the behavior of mutable arguments\n",
        "def add_item(my_list):\n",
        "    my_list.append(100)\n",
        "    print(\"Inside function:\", my_list)\n",
        "\n",
        "numbers = [1, 2, 3]\n",
        "print(\"Before function call:\", numbers)\n",
        "add_item(numbers)\n",
        "print(\"After function call:\", numbers)"
      ],
      "metadata": {
        "colab": {
          "base_uri": "https://localhost:8080/"
        },
        "id": "E53pjPsKi4Yj",
        "outputId": "9982572b-84a6-4ec4-ed70-259d55e19944"
      },
      "execution_count": 24,
      "outputs": [
        {
          "output_type": "stream",
          "name": "stdout",
          "text": [
            "Before function call: [1, 2, 3]\n",
            "Inside function: [1, 2, 3, 100]\n",
            "After function call: [1, 2, 3, 100]\n"
          ]
        }
      ]
    },
    {
      "cell_type": "code",
      "source": [
        "# 7. Write a function to demonstrate the behavior of immutable arguments\n",
        "def modify_number(num):\n",
        "    print(f\"Inside function (before modification): {num}\")\n",
        "    num += 10\n",
        "    print(f\"Inside function (after modification): {num}\")\n",
        "\n",
        "x = 5\n",
        "\n",
        "print(f\"Before function call: {x}\")\n",
        "modify_number(x)\n",
        "print(f\"After function call: {x}\")\n"
      ],
      "metadata": {
        "colab": {
          "base_uri": "https://localhost:8080/"
        },
        "id": "ZGVSKsTHwAbm",
        "outputId": "b3385519-c941-4081-c369-a7a7b3f60f7e"
      },
      "execution_count": 26,
      "outputs": [
        {
          "output_type": "stream",
          "name": "stdout",
          "text": [
            "Before function call: 5\n",
            "Inside function (before modification): 5\n",
            "Inside function (after modification): 15\n",
            "After function call: 5\n"
          ]
        }
      ]
    },
    {
      "cell_type": "code",
      "source": [
        "# 8. Write a program to demonstrate the use of logical operators"
      ],
      "metadata": {
        "id": "CAsIyRgHwzzB"
      },
      "execution_count": null,
      "outputs": []
    },
    {
      "cell_type": "code",
      "source": [
        "# \"AND\" operator\n",
        "age = int(input(\"Enter your age: \"))\n",
        "income = int(input(\"Enter your monthly income: \"))\n",
        "\n",
        "if age >= 18 and income >= 20000:\n",
        "    print(\"You are eligible for the loan.\")\n",
        "else:\n",
        "    print(\"You are NOT eligible for the loan.\")"
      ],
      "metadata": {
        "colab": {
          "base_uri": "https://localhost:8080/"
        },
        "id": "S-SisDCCxXP1",
        "outputId": "fe4c72f2-3f95-439a-fb6e-71a3ee1ef7d4"
      },
      "execution_count": 27,
      "outputs": [
        {
          "output_type": "stream",
          "name": "stdout",
          "text": [
            "Enter your age: 19\n",
            "Enter your monthly income: 21000\n",
            "You are eligible for the loan.\n"
          ]
        }
      ]
    },
    {
      "cell_type": "code",
      "source": [
        "# \"OR\" Operator\n",
        "age = int(input(\"Enter your age: \"))\n",
        "has_student_id = input(\"Do you have a student ID? (yes/no): \")\n",
        "\n",
        "if age < 18 or has_student_id == \"yes\":\n",
        "    print(\"You are eligible for a student discount.\")\n",
        "else:\n",
        "    print(\"You are NOT eligible for a student discount.\")"
      ],
      "metadata": {
        "colab": {
          "base_uri": "https://localhost:8080/"
        },
        "id": "C86Pn0Hjxi7n",
        "outputId": "6962a9ae-3941-4a1d-99b6-a35c4144fce6"
      },
      "execution_count": 28,
      "outputs": [
        {
          "output_type": "stream",
          "name": "stdout",
          "text": [
            "Enter your age: 20\n",
            "Do you have a student ID? (yes/no): no\n",
            "You are NOT eligible for a student discount.\n"
          ]
        }
      ]
    },
    {
      "cell_type": "code",
      "source": [
        "# NOT operator\n",
        "is_raining = input(\"Is it raining outside? (yes/no): \")\n",
        "\n",
        "if not (is_raining == \"yes\"):\n",
        "    print(\"You can go outside without an umbrella.\")\n",
        "else:\n",
        "    print(\"You should take an umbrella.\")"
      ],
      "metadata": {
        "colab": {
          "base_uri": "https://localhost:8080/"
        },
        "id": "bNWCoEBKyoAu",
        "outputId": "8e298b98-3cf1-4194-bbf3-b7db0aa0407b"
      },
      "execution_count": 29,
      "outputs": [
        {
          "output_type": "stream",
          "name": "stdout",
          "text": [
            "Is it raining outside? (yes/no): no\n",
            "You can go outside without an umbrella.\n"
          ]
        }
      ]
    },
    {
      "cell_type": "code",
      "source": [
        "# 9. Write a Python program to convert user input from string to integer, float, and boolean types\n",
        "age = input(\"Enter your age:\")\n",
        "print(int(age),float(age),bool(age))"
      ],
      "metadata": {
        "colab": {
          "base_uri": "https://localhost:8080/"
        },
        "id": "CbFUXMjHy06P",
        "outputId": "40ce53d1-0dc4-41e0-e2c0-fbbd21afab3f"
      },
      "execution_count": 31,
      "outputs": [
        {
          "output_type": "stream",
          "name": "stdout",
          "text": [
            "Enter your age:20\n",
            "20 20.0 True\n"
          ]
        }
      ]
    },
    {
      "cell_type": "code",
      "source": [
        "# 11. Write a program that checks if a number is positive, negative, or zero\n",
        "\n",
        "num = float(input(\"Enter a number: \"))\n",
        "\n",
        "if num > 0:\n",
        "    print(\"The number is Positive.\")\n",
        "elif num < 0:\n",
        "    print(\"The number is Negative.\")\n",
        "else:\n",
        "    print(\"The number is Zero.\")"
      ],
      "metadata": {
        "colab": {
          "base_uri": "https://localhost:8080/"
        },
        "id": "EJxTyGsi6ZMe",
        "outputId": "1f38f892-3104-40e5-a803-221cca2c5a94"
      },
      "execution_count": 39,
      "outputs": [
        {
          "output_type": "stream",
          "name": "stdout",
          "text": [
            "Enter a number: 1\n",
            "The number is Positive.\n"
          ]
        }
      ]
    },
    {
      "cell_type": "code",
      "source": [
        " # 12. Write a for loop to print numbers from 1 to 10\n",
        "for i in range (1,11):\n",
        "  print(i)\n"
      ],
      "metadata": {
        "colab": {
          "base_uri": "https://localhost:8080/"
        },
        "id": "etNyChlB6rcu",
        "outputId": "a058d6a7-2283-4342-a22d-d0e7b452444c"
      },
      "execution_count": 41,
      "outputs": [
        {
          "output_type": "stream",
          "name": "stdout",
          "text": [
            "1\n",
            "2\n",
            "3\n",
            "4\n",
            "5\n",
            "6\n",
            "7\n",
            "8\n",
            "9\n",
            "10\n"
          ]
        }
      ]
    },
    {
      "cell_type": "code",
      "source": [
        "# 13. Write a Python program to find the sum of all even numbers between 1 and 50\n",
        "total_sum = 0\n",
        "for i in range (1,51):\n",
        "  if i%2==0:\n",
        "    total_sum += i\n",
        "print(total_sum)"
      ],
      "metadata": {
        "colab": {
          "base_uri": "https://localhost:8080/"
        },
        "id": "e15P9h0M7Mhp",
        "outputId": "94c2dd06-aed0-429f-ff41-94f9116c36d6"
      },
      "execution_count": 55,
      "outputs": [
        {
          "output_type": "stream",
          "name": "stdout",
          "text": [
            "650\n"
          ]
        }
      ]
    },
    {
      "cell_type": "code",
      "source": [
        "# 15. Write a Python program to calculate the factorial of a number provided by the user using a while loop.\n",
        "num = int(input(\"Enter a number:\"))\n",
        "def factorial (num):\n",
        "  if num == 0 or num == 1:\n",
        "    return 1\n",
        "  else:\n",
        "    return num * factorial(num-1)\n",
        "print(factorial(num))\n"
      ],
      "metadata": {
        "colab": {
          "base_uri": "https://localhost:8080/"
        },
        "id": "guV21H8t9xjX",
        "outputId": "0d74791d-7efa-4a53-c460-c2b01b432771"
      },
      "execution_count": 62,
      "outputs": [
        {
          "output_type": "stream",
          "name": "stdout",
          "text": [
            "Enter a number:5\n",
            "120\n"
          ]
        }
      ]
    }
  ]
}